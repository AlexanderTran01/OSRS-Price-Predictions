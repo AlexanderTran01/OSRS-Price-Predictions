{
 "cells": [
  {
   "cell_type": "code",
   "execution_count": 1,
   "id": "cf4c6028",
   "metadata": {},
   "outputs": [],
   "source": [
    "import pandas as pd \n",
    "import numpy as np"
   ]
  },
  {
   "cell_type": "code",
   "execution_count": 2,
   "id": "21c14609",
   "metadata": {},
   "outputs": [],
   "source": [
    "# Bring in the different df \n",
    "df1 = pd.read_csv(r'C:\\Users\\huang\\OneDrive\\Documents\\ECO481\\rune_price_day1.csv')\n",
    "df2 = pd.read_csv(r'C:\\Users\\huang\\OneDrive\\Documents\\ECO481\\rune_price_day2.csv')\n",
    "df3 = pd.read_csv(r'C:\\Users\\huang\\OneDrive\\Documents\\ECO481\\rune_price_day3.csv')"
   ]
  },
  {
   "cell_type": "code",
   "execution_count": 4,
   "id": "3625b7b8",
   "metadata": {},
   "outputs": [],
   "source": [
    "# concat the dataframes, then drop duplicates ~ that is if item name and date are the same...\n",
    "df_merged = pd.concat([df1, df2], axis = 0)\n",
    "df_merged = pd.concat([df_merged, df3], axis = 0)\n",
    "# drop duplicates\n",
    "df_merged.drop_duplicates(subset = ['Item Name', 'Date'], inplace = True)\n",
    "# Sort by item name and date\n",
    "df_merged.sort_values(by = ['Item Name', 'Date'], inplace = True)\n",
    "df_merged.to_csv(r'C:\\Users\\huang\\OneDrive\\Documents\\ECO481_Assign\\rune_prices_merged.csv')"
   ]
  },
  {
   "cell_type": "code",
   "execution_count": null,
   "id": "bb2fb0a3",
   "metadata": {},
   "outputs": [],
   "source": []
  }
 ],
 "metadata": {
  "kernelspec": {
   "display_name": "Python 3 (ipykernel)",
   "language": "python",
   "name": "python3"
  },
  "language_info": {
   "codemirror_mode": {
    "name": "ipython",
    "version": 3
   },
   "file_extension": ".py",
   "mimetype": "text/x-python",
   "name": "python",
   "nbconvert_exporter": "python",
   "pygments_lexer": "ipython3",
   "version": "3.9.13"
  }
 },
 "nbformat": 4,
 "nbformat_minor": 5
}
