{
 "cells": [
  {
   "cell_type": "code",
   "execution_count": 1,
   "id": "56c4ecad",
   "metadata": {},
   "outputs": [],
   "source": [
    "# Determine if random walk\n",
    "# Import packages\n",
    "import pandas as pd\n",
    "import numpy as np\n",
    "from sklearn.tree import DecisionTreeRegressor\n",
    "from sklearn.ensemble import RandomForestRegressor\n",
    "from sklearn.metrics import roc_curve, roc_auc_score\n",
    "from sklearn.neighbors import KNeighborsRegressor\n",
    "import matplotlib.pyplot as plt\n",
    "from sklearn import tree\n",
    "from sklearn import preprocessing\n",
    "from sklearn.metrics import mean_squared_error\n"
   ]
  },
  {
   "cell_type": "code",
   "execution_count": 2,
   "id": "76623439",
   "metadata": {},
   "outputs": [],
   "source": [
    "# Data preparation\n",
    "m_list = ['Persistence Model', 'Decision Tree Model', 'Random Forest Model', 'Gradient Boosted Tree', 'KNN']\n",
    "mse_list = []\n",
    "df = pd.read_csv(r'C:\\Users\\huang\\OneDrive\\Documents\\ECO481\\Bone Prices\\merged_bone_df_v2.csv')\n",
    "# We must make the training and test split, keep in mind it is timeseries data so it won't be random\n",
    "x_train = df[['Lagged Total Trade Volume', 'Lagged Price', 'Lagged Total Trade volume Substitute 1',\n",
    "             'Lagged Price Substitute 1', 'Lagged Total Trade volume Substitute 2', 'Lagged Price Substitute 2',\n",
    "             'Lagged Total Trade volume Substitute 3', 'Lagged Price Substitute 3', 'Lagged Total Trade volume Substitute 4',\n",
    "             'Lagged Price Substitute 4']].loc[1: 4238]\n",
    "x_test = df[['Lagged Total Trade Volume', 'Lagged Price', 'Lagged Total Trade volume Substitute 1',\n",
    "             'Lagged Price Substitute 1', 'Lagged Total Trade volume Substitute 2', 'Lagged Price Substitute 2',\n",
    "             'Lagged Total Trade volume Substitute 3', 'Lagged Price Substitute 3', 'Lagged Total Trade volume Substitute 4',\n",
    "             'Lagged Price Substitute 4']].loc[4239: 5298]\n",
    "y_train = df[['Average Price']].loc[1: 4238]\n",
    "y_test = df[['Average Price']].loc[4239: 5298]"
   ]
  },
  {
   "cell_type": "code",
   "execution_count": 3,
   "id": "bd059a83",
   "metadata": {},
   "outputs": [],
   "source": [
    "# Scale the data:\n",
    "scaler = preprocessing.StandardScaler().fit(x_train)\n",
    "x_training_scaled = scaler.transform(x_train)\n",
    "x_testing_scaled = scaler.transform(x_test)"
   ]
  },
  {
   "cell_type": "code",
   "execution_count": 4,
   "id": "55dded73",
   "metadata": {},
   "outputs": [
    {
     "name": "stdout",
     "output_type": "stream",
     "text": [
      "Test MSE: 928.501\n"
     ]
    }
   ],
   "source": [
    "# Create a persistence model ~ naive predictor, should be shit but if it has a lower MSE then all the other methods\n",
    "# perhaps we are dealing with something akin to random selection...\n",
    "def model_persistence(x):\n",
    "    return x\n",
    "# walk-forward validation\n",
    "predictions = list()\n",
    "for x in x_test['Lagged Price']:\n",
    "    yhat = model_persistence(x)\n",
    "    predictions.append(yhat)\n",
    "test_score = mean_squared_error(y_test, predictions)\n",
    "print('Test MSE: %.3f' % test_score)\n",
    "mse_list.append(test_score)"
   ]
  },
  {
   "cell_type": "code",
   "execution_count": 5,
   "id": "4455fb9f",
   "metadata": {},
   "outputs": [
    {
     "name": "stdout",
     "output_type": "stream",
     "text": [
      "Test MSE: 1655.198\n"
     ]
    }
   ],
   "source": [
    "# decision tree regressor\n",
    "tree_reg = DecisionTreeRegressor()\n",
    "d_tree = DecisionTreeRegressor(max_depth = 5)\n",
    "tree_reg.fit(x_training_scaled, y_train)\n",
    "rt_pred = tree_reg.predict(x_testing_scaled)\n",
    "# MSE:\n",
    "test_score_rt = mean_squared_error(y_test, rt_pred)\n",
    "print('Test MSE: %.3f' % test_score_rt)\n",
    "mse_list.append(test_score_rt)"
   ]
  },
  {
   "cell_type": "code",
   "execution_count": 6,
   "id": "4fee15ea",
   "metadata": {},
   "outputs": [
    {
     "name": "stderr",
     "output_type": "stream",
     "text": [
      "C:\\Users\\huang\\AppData\\Local\\Temp\\ipykernel_24464\\596940956.py:3: DataConversionWarning: A column-vector y was passed when a 1d array was expected. Please change the shape of y to (n_samples,), for example using ravel().\n",
      "  forest.fit(x_training_scaled, y_train)\n"
     ]
    },
    {
     "name": "stdout",
     "output_type": "stream",
     "text": [
      "Test MSE: 1204.756\n"
     ]
    }
   ],
   "source": [
    "# We now go on to run a random forest\n",
    "forest = RandomForestRegressor()\n",
    "forest.fit(x_training_scaled, y_train)\n",
    "# Print the RF MSE\n",
    "rf_pred = forest.predict(x_testing_scaled)\n",
    "test_score_rf = mean_squared_error(y_test, rf_pred)\n",
    "print('Test MSE: %.3f' % test_score_rf)\n",
    "# OH SHIT ITS RANDOM WAAAAAAALK \n",
    "# WAAAAAAAAAAAAAAAAGH\n",
    "# But to be fair ~ have we tried GRADIENT BOOSTED DECISION TREES?\n",
    "mse_list.append(test_score_rf)\n",
    "# We determined it to be random walk as the other methods seem to have \n",
    "# a higher MSE than the persistence MSE"
   ]
  },
  {
   "cell_type": "code",
   "execution_count": 7,
   "id": "ab6b62b7",
   "metadata": {},
   "outputs": [
    {
     "name": "stderr",
     "output_type": "stream",
     "text": [
      "C:\\Users\\huang\\anaconda3\\lib\\site-packages\\sklearn\\ensemble\\_gb.py:494: DataConversionWarning: A column-vector y was passed when a 1d array was expected. Please change the shape of y to (n_samples, ), for example using ravel().\n",
      "  y = column_or_1d(y, warn=True)\n"
     ]
    },
    {
     "name": "stdout",
     "output_type": "stream",
     "text": [
      "Test MSE: 1315.572\n"
     ]
    }
   ],
   "source": [
    "from sklearn.ensemble import GradientBoostingRegressor\n",
    "from xgboost import XGBClassifier\n",
    "\n",
    "GBC = GradientBoostingRegressor(n_estimators = 100, learning_rate = 0.1, \n",
    "                                 max_leaf_nodes = None, criterion = \"squared_error\")\n",
    "# Make the fit?\n",
    "GBC.fit(x_training_scaled, y_train)\n",
    "gbc_pred = GBC.predict(x_testing_scaled)\n",
    "test_score_gbc = mean_squared_error(y_test, gbc_pred)\n",
    "print('Test MSE: %.3f' % test_score_gbc)\n",
    "mse_list.append(test_score_gbc)"
   ]
  },
  {
   "cell_type": "code",
   "execution_count": 8,
   "id": "454c7bf4",
   "metadata": {},
   "outputs": [],
   "source": [
    "# knn model\n",
    "# Create a KNN model, hyperparameter tuning ~ we want to find the optimal # of neighbors\n",
    "from sklearn.model_selection import cross_val_score\n",
    "k_list = []\n",
    "cv_l = []\n",
    "mse_l = []\n",
    "ind_knn = 1\n",
    "knn_df1 = scaler.transform(df[['Lagged Total Trade Volume', 'Lagged Price', 'Lagged Total Trade volume Substitute 1',\n",
    "             'Lagged Price Substitute 1', 'Lagged Total Trade volume Substitute 2', 'Lagged Price Substitute 2',\n",
    "             'Lagged Total Trade volume Substitute 3', 'Lagged Price Substitute 3', 'Lagged Total Trade volume Substitute 4',\n",
    "             'Lagged Price Substitute 4']])\n",
    "knn_predicted = df[['Average Price']]\n",
    "while ind_knn in range(11):\n",
    "    # neighbor list\n",
    "    k_list.append(ind_knn)\n",
    "    KNN = KNeighborsRegressor(n_neighbors = ind_knn)\n",
    "    KNN.fit(x_training_scaled, y_train)\n",
    "    # cross validation \n",
    "    cross_val_scores = cross_val_score(KNN, knn_df1, knn_predicted, cv = 5)\n",
    "    cross_val_mean = cross_val_scores.mean()\n",
    "    cv_l.append(cross_val_mean)\n",
    "    # MSE\n",
    "    knn_pred = KNN.predict(x_testing_scaled)\n",
    "    test_score_knn = mean_squared_error(y_test, knn_pred)\n",
    "    mse_l.append(test_score_knn)\n",
    "    ind_knn += 1 "
   ]
  },
  {
   "cell_type": "code",
   "execution_count": 9,
   "id": "750aa792",
   "metadata": {},
   "outputs": [
    {
     "data": {
      "text/html": [
       "<div>\n",
       "<style scoped>\n",
       "    .dataframe tbody tr th:only-of-type {\n",
       "        vertical-align: middle;\n",
       "    }\n",
       "\n",
       "    .dataframe tbody tr th {\n",
       "        vertical-align: top;\n",
       "    }\n",
       "\n",
       "    .dataframe thead th {\n",
       "        text-align: right;\n",
       "    }\n",
       "</style>\n",
       "<table border=\"1\" class=\"dataframe\">\n",
       "  <thead>\n",
       "    <tr style=\"text-align: right;\">\n",
       "      <th></th>\n",
       "      <th>Number of Neighbors</th>\n",
       "      <th>Cross Validation Score</th>\n",
       "      <th>MSE</th>\n",
       "    </tr>\n",
       "  </thead>\n",
       "  <tbody>\n",
       "    <tr>\n",
       "      <th>0</th>\n",
       "      <td>1</td>\n",
       "      <td>-0.084885</td>\n",
       "      <td>2140.521513</td>\n",
       "    </tr>\n",
       "    <tr>\n",
       "      <th>1</th>\n",
       "      <td>2</td>\n",
       "      <td>0.116399</td>\n",
       "      <td>1755.548753</td>\n",
       "    </tr>\n",
       "    <tr>\n",
       "      <th>2</th>\n",
       "      <td>3</td>\n",
       "      <td>0.191548</td>\n",
       "      <td>1603.406411</td>\n",
       "    </tr>\n",
       "    <tr>\n",
       "      <th>3</th>\n",
       "      <td>4</td>\n",
       "      <td>0.204153</td>\n",
       "      <td>1478.253437</td>\n",
       "    </tr>\n",
       "    <tr>\n",
       "      <th>4</th>\n",
       "      <td>5</td>\n",
       "      <td>0.188064</td>\n",
       "      <td>1435.853168</td>\n",
       "    </tr>\n",
       "    <tr>\n",
       "      <th>5</th>\n",
       "      <td>6</td>\n",
       "      <td>0.179343</td>\n",
       "      <td>1470.942421</td>\n",
       "    </tr>\n",
       "    <tr>\n",
       "      <th>6</th>\n",
       "      <td>7</td>\n",
       "      <td>0.159486</td>\n",
       "      <td>1520.109223</td>\n",
       "    </tr>\n",
       "    <tr>\n",
       "      <th>7</th>\n",
       "      <td>8</td>\n",
       "      <td>0.143001</td>\n",
       "      <td>1543.086383</td>\n",
       "    </tr>\n",
       "    <tr>\n",
       "      <th>8</th>\n",
       "      <td>9</td>\n",
       "      <td>0.109816</td>\n",
       "      <td>1569.521246</td>\n",
       "    </tr>\n",
       "    <tr>\n",
       "      <th>9</th>\n",
       "      <td>10</td>\n",
       "      <td>0.089514</td>\n",
       "      <td>1575.464873</td>\n",
       "    </tr>\n",
       "  </tbody>\n",
       "</table>\n",
       "</div>"
      ],
      "text/plain": [
       "   Number of Neighbors  Cross Validation Score          MSE\n",
       "0                    1               -0.084885  2140.521513\n",
       "1                    2                0.116399  1755.548753\n",
       "2                    3                0.191548  1603.406411\n",
       "3                    4                0.204153  1478.253437\n",
       "4                    5                0.188064  1435.853168\n",
       "5                    6                0.179343  1470.942421\n",
       "6                    7                0.159486  1520.109223\n",
       "7                    8                0.143001  1543.086383\n",
       "8                    9                0.109816  1569.521246\n",
       "9                   10                0.089514  1575.464873"
      ]
     },
     "execution_count": 9,
     "metadata": {},
     "output_type": "execute_result"
    }
   ],
   "source": [
    "knn_outcomes_df = pd.DataFrame(list(zip(k_list, cv_l, mse_l)), columns = ['Number of Neighbors', 'Cross Validation Score', \n",
    "                                                                         'MSE'])\n",
    "knn_outcomes_df\n",
    "# We want the maximum CV score of it, along with requisite MSE:\n"
   ]
  },
  {
   "cell_type": "code",
   "execution_count": 10,
   "id": "27b88ffd",
   "metadata": {},
   "outputs": [],
   "source": [
    "ind_knn1 = 0\n",
    "max_cv = knn_outcomes_df['Cross Validation Score'][ind_knn1]\n",
    "while ind_knn1 in range(len(knn_outcomes_df['Cross Validation Score'])):\n",
    "    if knn_outcomes_df['Cross Validation Score'][ind_knn1] > max_cv:\n",
    "        max_cv = knn_outcomes_df['Cross Validation Score'][ind_knn1]\n",
    "        max_ind = ind_knn1\n",
    "    else:\n",
    "        pass\n",
    "    ind_knn1 += 1\n",
    "mse_list.append(knn_outcomes_df['MSE'][max_ind])"
   ]
  },
  {
   "cell_type": "code",
   "execution_count": 11,
   "id": "89051a1e",
   "metadata": {},
   "outputs": [
    {
     "data": {
      "text/html": [
       "<div>\n",
       "<style scoped>\n",
       "    .dataframe tbody tr th:only-of-type {\n",
       "        vertical-align: middle;\n",
       "    }\n",
       "\n",
       "    .dataframe tbody tr th {\n",
       "        vertical-align: top;\n",
       "    }\n",
       "\n",
       "    .dataframe thead th {\n",
       "        text-align: right;\n",
       "    }\n",
       "</style>\n",
       "<table border=\"1\" class=\"dataframe\">\n",
       "  <thead>\n",
       "    <tr style=\"text-align: right;\">\n",
       "      <th></th>\n",
       "      <th>Model</th>\n",
       "      <th>Test MSE</th>\n",
       "    </tr>\n",
       "  </thead>\n",
       "  <tbody>\n",
       "    <tr>\n",
       "      <th>0</th>\n",
       "      <td>Persistence Model</td>\n",
       "      <td>928.500905</td>\n",
       "    </tr>\n",
       "    <tr>\n",
       "      <th>1</th>\n",
       "      <td>Decision Tree Model</td>\n",
       "      <td>1655.198362</td>\n",
       "    </tr>\n",
       "    <tr>\n",
       "      <th>2</th>\n",
       "      <td>Random Forest Model</td>\n",
       "      <td>1204.756096</td>\n",
       "    </tr>\n",
       "    <tr>\n",
       "      <th>3</th>\n",
       "      <td>Gradient Boosted Tree</td>\n",
       "      <td>1315.572298</td>\n",
       "    </tr>\n",
       "    <tr>\n",
       "      <th>4</th>\n",
       "      <td>KNN</td>\n",
       "      <td>1478.253437</td>\n",
       "    </tr>\n",
       "  </tbody>\n",
       "</table>\n",
       "</div>"
      ],
      "text/plain": [
       "                   Model     Test MSE\n",
       "0      Persistence Model   928.500905\n",
       "1    Decision Tree Model  1655.198362\n",
       "2    Random Forest Model  1204.756096\n",
       "3  Gradient Boosted Tree  1315.572298\n",
       "4                    KNN  1478.253437"
      ]
     },
     "execution_count": 11,
     "metadata": {},
     "output_type": "execute_result"
    }
   ],
   "source": [
    "outcomes_df = pd.DataFrame(list(zip(m_list, mse_list)), columns = ['Model', 'Test MSE'])\n",
    "outcomes_df"
   ]
  },
  {
   "cell_type": "code",
   "execution_count": null,
   "id": "adf452a5",
   "metadata": {},
   "outputs": [],
   "source": []
  }
 ],
 "metadata": {
  "kernelspec": {
   "display_name": "Python 3 (ipykernel)",
   "language": "python",
   "name": "python3"
  },
  "language_info": {
   "codemirror_mode": {
    "name": "ipython",
    "version": 3
   },
   "file_extension": ".py",
   "mimetype": "text/x-python",
   "name": "python",
   "nbconvert_exporter": "python",
   "pygments_lexer": "ipython3",
   "version": "3.9.13"
  }
 },
 "nbformat": 4,
 "nbformat_minor": 5
}
